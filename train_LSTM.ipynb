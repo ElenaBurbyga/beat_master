{
 "cells": [
  {
   "cell_type": "code",
   "execution_count": 2,
   "id": "51976c4c-8db2-421f-9609-e86eee2f5e40",
   "metadata": {},
   "outputs": [],
   "source": [
    "from utils import MidiProcessor, prepare_data, array_to_midi, concat_all_midi_to_df, get_good_files,get_bad_files, get_files\n",
    "from model import build_lstm\n",
    "import numpy as np\n",
    "from keras.callbacks import EarlyStopping, ModelCheckpoint, TensorBoard\n",
    "from keras.utils import np_utils\n",
    "from keras.models import load_model\n",
    "import matplotlib.pyplot as plt"
   ]
  },
  {
   "cell_type": "code",
   "execution_count": 10,
   "id": "133390dd-6ec5-4688-b3c9-e74bb96c80df",
   "metadata": {},
   "outputs": [],
   "source": [
    "input_window_len = 32\n",
    "pred_steps = 1"
   ]
  },
  {
   "cell_type": "code",
   "execution_count": 11,
   "id": "c03b3c2f-9cd4-473e-8b48-c374fcc5d000",
   "metadata": {},
   "outputs": [
    {
     "name": "stdout",
     "output_type": "stream",
     "text": [
      "14 drum loops\n",
      "25 percussion instruments\n",
      "40018 32-notes\n"
     ]
    }
   ],
   "source": [
    "files = get_good_files()\n",
    "df, tracks_len_list = concat_all_midi_to_df(files, return_tracks_len_list=True)"
   ]
  },
  {
   "cell_type": "code",
   "execution_count": 7,
   "id": "10e9f161-edb0-4406-adaa-32bbd99e1e80",
   "metadata": {},
   "outputs": [],
   "source": [
    "X_train, y_train, X_test, y_test, instruments_list = prepare_data(df, input_window_len=input_window_len, pred_steps=1, overlaps=0, train_test_split=0.1,\n",
    "                                                                  tracks_len_list=tracks_len_list, max_instruments=10)"
   ]
  },
  {
   "cell_type": "code",
   "execution_count": 8,
   "id": "bb56caf9-edc7-49a4-af98-6e30823d93e4",
   "metadata": {},
   "outputs": [
    {
     "data": {
      "text/plain": [
       "array([[[1, 0, 0, ..., 1, 0, 0],\n",
       "        [0, 0, 0, ..., 0, 0, 0],\n",
       "        [0, 0, 0, ..., 0, 0, 0],\n",
       "        ...,\n",
       "        [0, 0, 0, ..., 0, 0, 0],\n",
       "        [0, 0, 0, ..., 0, 0, 0],\n",
       "        [0, 0, 0, ..., 0, 0, 0]],\n",
       "\n",
       "       [[0, 0, 0, ..., 0, 0, 0],\n",
       "        [0, 0, 0, ..., 0, 0, 0],\n",
       "        [0, 0, 0, ..., 0, 0, 0],\n",
       "        ...,\n",
       "        [0, 0, 0, ..., 0, 0, 0],\n",
       "        [0, 0, 0, ..., 0, 0, 0],\n",
       "        [1, 0, 0, ..., 1, 0, 0]],\n",
       "\n",
       "       [[0, 0, 0, ..., 0, 0, 0],\n",
       "        [0, 0, 0, ..., 0, 0, 0],\n",
       "        [0, 0, 0, ..., 1, 0, 0],\n",
       "        ...,\n",
       "        [0, 0, 0, ..., 0, 0, 0],\n",
       "        [1, 0, 0, ..., 1, 0, 0],\n",
       "        [0, 0, 0, ..., 0, 0, 0]],\n",
       "\n",
       "       ...,\n",
       "\n",
       "       [[0, 0, 0, ..., 0, 0, 0],\n",
       "        [0, 0, 0, ..., 0, 0, 0],\n",
       "        [1, 0, 0, ..., 0, 0, 0],\n",
       "        ...,\n",
       "        [0, 0, 0, ..., 0, 0, 0],\n",
       "        [0, 0, 0, ..., 0, 0, 0],\n",
       "        [0, 0, 0, ..., 0, 0, 0]],\n",
       "\n",
       "       [[0, 0, 0, ..., 0, 0, 0],\n",
       "        [1, 0, 0, ..., 0, 0, 0],\n",
       "        [0, 0, 0, ..., 0, 0, 0],\n",
       "        ...,\n",
       "        [0, 0, 0, ..., 0, 0, 0],\n",
       "        [0, 0, 0, ..., 0, 0, 0],\n",
       "        [0, 0, 0, ..., 0, 0, 0]],\n",
       "\n",
       "       [[1, 0, 0, ..., 0, 0, 0],\n",
       "        [0, 0, 0, ..., 0, 0, 0],\n",
       "        [0, 0, 0, ..., 0, 0, 0],\n",
       "        ...,\n",
       "        [0, 0, 0, ..., 0, 0, 0],\n",
       "        [0, 0, 0, ..., 0, 0, 0],\n",
       "        [0, 0, 0, ..., 0, 0, 0]]])"
      ]
     },
     "execution_count": 8,
     "metadata": {},
     "output_type": "execute_result"
    }
   ],
   "source": [
    "X_train"
   ]
  },
  {
   "cell_type": "code",
   "execution_count": 9,
   "id": "2dd1449b-1001-4f36-9e6b-69ef90a0781a",
   "metadata": {
    "tags": []
   },
   "outputs": [],
   "source": [
    "n_feature = X_train.shape[2]\n",
    "output_shape = y_train.shape[1]\n",
    "model = build_lstm(input_window_len=input_window_len, n_feature=n_feature, output_shape=output_shape, dropout=0.5, neurons_per_layer=[32, 32, 32])"
   ]
  },
  {
   "cell_type": "code",
   "execution_count": 10,
   "id": "a1592d5b-6de1-4eb6-996f-46d68e3bfbd5",
   "metadata": {},
   "outputs": [
    {
     "name": "stdout",
     "output_type": "stream",
     "text": [
      "Model: \"sequential\"\n",
      "_________________________________________________________________\n",
      "Layer (type)                 Output Shape              Param #   \n",
      "=================================================================\n",
      "lstm (LSTM)                  (None, 32, 32)            5504      \n",
      "_________________________________________________________________\n",
      "dropout (Dropout)            (None, 32, 32)            0         \n",
      "_________________________________________________________________\n",
      "lstm_1 (LSTM)                (None, 32, 512)           1116160   \n",
      "_________________________________________________________________\n",
      "dropout_1 (Dropout)          (None, 32, 512)           0         \n",
      "_________________________________________________________________\n",
      "lstm_2 (LSTM)                (None, 32, 512)           2099200   \n",
      "_________________________________________________________________\n",
      "dropout_2 (Dropout)          (None, 32, 512)           0         \n",
      "_________________________________________________________________\n",
      "flatten (Flatten)            (None, 16384)             0         \n",
      "_________________________________________________________________\n",
      "dense (Dense)                (None, 10)                163850    \n",
      "=================================================================\n",
      "Total params: 3,384,714\n",
      "Trainable params: 3,384,714\n",
      "Non-trainable params: 0\n",
      "_________________________________________________________________\n"
     ]
    }
   ],
   "source": [
    "model.summary()"
   ]
  },
  {
   "cell_type": "code",
   "execution_count": 11,
   "id": "a640bdec-86a9-4db1-81f9-931b605ad58b",
   "metadata": {},
   "outputs": [
    {
     "name": "stdout",
     "output_type": "stream",
     "text": [
      "Epoch 1/50\n",
      "1002/1002 [==============================] - 377s 373ms/step - loss: 0.1475 - accuracy: 0.5962 - val_loss: 0.1476 - val_accuracy: 0.1617\n",
      "\n",
      "Epoch 00001: val_loss improved from inf to 0.14764, saving model to ./lstm_2nd_try_50_s.h5\n",
      "Epoch 2/50\n",
      "1002/1002 [==============================] - 375s 374ms/step - loss: 0.1126 - accuracy: 0.6238 - val_loss: 0.1312 - val_accuracy: 0.1645\n",
      "\n",
      "Epoch 00002: val_loss improved from 0.14764 to 0.13115, saving model to ./lstm_2nd_try_50_s.h5\n",
      "Epoch 3/50\n",
      "1002/1002 [==============================] - 375s 374ms/step - loss: 0.1012 - accuracy: 0.6288 - val_loss: 0.1137 - val_accuracy: 0.1867\n",
      "\n",
      "Epoch 00003: val_loss improved from 0.13115 to 0.11369, saving model to ./lstm_2nd_try_50_s.h5\n",
      "Epoch 4/50\n",
      "1002/1002 [==============================] - 374s 374ms/step - loss: 0.0882 - accuracy: 0.5781 - val_loss: 0.0969 - val_accuracy: 0.2294\n",
      "\n",
      "Epoch 00004: val_loss improved from 0.11369 to 0.09694, saving model to ./lstm_2nd_try_50_s.h5\n",
      "Epoch 5/50\n",
      "1002/1002 [==============================] - 375s 374ms/step - loss: 0.0795 - accuracy: 0.5557 - val_loss: 0.0919 - val_accuracy: 0.2760\n",
      "\n",
      "Epoch 00005: val_loss improved from 0.09694 to 0.09187, saving model to ./lstm_2nd_try_50_s.h5\n",
      "Epoch 6/50\n",
      "1002/1002 [==============================] - 376s 375ms/step - loss: 0.0737 - accuracy: 0.5842 - val_loss: 0.0911 - val_accuracy: 0.2701\n",
      "\n",
      "Epoch 00006: val_loss improved from 0.09187 to 0.09111, saving model to ./lstm_2nd_try_50_s.h5\n",
      "Epoch 7/50\n",
      "1002/1002 [==============================] - 375s 375ms/step - loss: 0.0696 - accuracy: 0.6002 - val_loss: 0.0889 - val_accuracy: 0.2706\n",
      "\n",
      "Epoch 00007: val_loss improved from 0.09111 to 0.08889, saving model to ./lstm_2nd_try_50_s.h5\n",
      "Epoch 8/50\n",
      "1002/1002 [==============================] - 375s 375ms/step - loss: 0.0652 - accuracy: 0.5976 - val_loss: 0.0831 - val_accuracy: 0.3066\n",
      "\n",
      "Epoch 00008: val_loss improved from 0.08889 to 0.08311, saving model to ./lstm_2nd_try_50_s.h5\n",
      "Epoch 9/50\n",
      "1002/1002 [==============================] - 377s 376ms/step - loss: 0.0617 - accuracy: 0.5937 - val_loss: 0.0848 - val_accuracy: 0.3178\n",
      "\n",
      "Epoch 00009: val_loss did not improve from 0.08311\n",
      "Epoch 10/50\n",
      "1002/1002 [==============================] - 376s 375ms/step - loss: 0.0577 - accuracy: 0.5893 - val_loss: 0.0834 - val_accuracy: 0.3512\n",
      "\n",
      "Epoch 00010: val_loss did not improve from 0.08311\n",
      "Epoch 11/50\n",
      "1002/1002 [==============================] - 376s 375ms/step - loss: 0.0539 - accuracy: 0.5759 - val_loss: 0.0847 - val_accuracy: 0.3015\n",
      "\n",
      "Epoch 00011: val_loss did not improve from 0.08311\n",
      "Epoch 12/50\n",
      "1002/1002 [==============================] - 375s 375ms/step - loss: 0.0500 - accuracy: 0.5572 - val_loss: 0.0863 - val_accuracy: 0.2911\n",
      "\n",
      "Epoch 00012: val_loss did not improve from 0.08311\n",
      "Epoch 13/50\n",
      "1002/1002 [==============================] - 376s 375ms/step - loss: 0.0468 - accuracy: 0.5480 - val_loss: 0.0877 - val_accuracy: 0.3360\n",
      "\n",
      "Epoch 00013: val_loss did not improve from 0.08311\n",
      "Epoch 14/50\n",
      "1002/1002 [==============================] - 376s 375ms/step - loss: 0.0434 - accuracy: 0.5554 - val_loss: 0.0811 - val_accuracy: 0.3338\n",
      "\n",
      "Epoch 00014: val_loss improved from 0.08311 to 0.08110, saving model to ./lstm_2nd_try_50_s.h5\n",
      "Epoch 15/50\n",
      "1002/1002 [==============================] - 378s 377ms/step - loss: 0.0407 - accuracy: 0.5453 - val_loss: 0.0871 - val_accuracy: 0.3287\n",
      "\n",
      "Epoch 00015: val_loss did not improve from 0.08110\n",
      "Epoch 16/50\n",
      "1002/1002 [==============================] - 378s 377ms/step - loss: 0.0376 - accuracy: 0.5244 - val_loss: 0.0850 - val_accuracy: 0.3240\n",
      "\n",
      "Epoch 00016: val_loss did not improve from 0.08110\n",
      "Epoch 17/50\n",
      "1002/1002 [==============================] - 378s 377ms/step - loss: 0.0357 - accuracy: 0.5229 - val_loss: 0.0867 - val_accuracy: 0.3026\n",
      "\n",
      "Epoch 00017: val_loss did not improve from 0.08110\n",
      "Epoch 18/50\n",
      "1002/1002 [==============================] - 378s 378ms/step - loss: 0.0333 - accuracy: 0.5202 - val_loss: 0.0856 - val_accuracy: 0.2973\n",
      "\n",
      "Epoch 00018: val_loss did not improve from 0.08110\n",
      "Epoch 19/50\n",
      "1002/1002 [==============================] - 379s 379ms/step - loss: 0.0319 - accuracy: 0.5199 - val_loss: 0.0904 - val_accuracy: 0.3015\n",
      "\n",
      "Epoch 00019: val_loss did not improve from 0.08110\n",
      "Epoch 20/50\n",
      "1002/1002 [==============================] - 379s 379ms/step - loss: 0.0304 - accuracy: 0.5136 - val_loss: 0.0910 - val_accuracy: 0.3700\n",
      "\n",
      "Epoch 00020: val_loss did not improve from 0.08110\n",
      "Epoch 21/50\n",
      "1002/1002 [==============================] - 379s 378ms/step - loss: 0.0289 - accuracy: 0.5122 - val_loss: 0.0916 - val_accuracy: 0.3071\n",
      "\n",
      "Epoch 00021: val_loss did not improve from 0.08110\n",
      "Epoch 22/50\n",
      "1002/1002 [==============================] - 379s 378ms/step - loss: 0.0272 - accuracy: 0.4926 - val_loss: 0.0930 - val_accuracy: 0.2611\n",
      "\n",
      "Epoch 00022: val_loss did not improve from 0.08110\n",
      "Epoch 23/50\n",
      "1002/1002 [==============================] - 380s 379ms/step - loss: 0.0270 - accuracy: 0.4990 - val_loss: 0.0938 - val_accuracy: 0.2718\n",
      "\n",
      "Epoch 00023: val_loss did not improve from 0.08110\n",
      "Epoch 24/50\n",
      "1002/1002 [==============================] - 380s 379ms/step - loss: 0.0265 - accuracy: 0.4931 - val_loss: 0.0924 - val_accuracy: 0.2746\n",
      "\n",
      "Epoch 00024: val_loss did not improve from 0.08110\n",
      "Epoch 25/50\n",
      "1002/1002 [==============================] - 380s 379ms/step - loss: 0.0246 - accuracy: 0.4956 - val_loss: 0.0935 - val_accuracy: 0.2914\n",
      "\n",
      "Epoch 00025: val_loss did not improve from 0.08110\n",
      "Epoch 26/50\n",
      "1002/1002 [==============================] - 380s 379ms/step - loss: 0.0234 - accuracy: 0.4946 - val_loss: 0.0961 - val_accuracy: 0.2906\n",
      "\n",
      "Epoch 00026: val_loss did not improve from 0.08110\n",
      "Epoch 27/50\n",
      "1002/1002 [==============================] - 380s 379ms/step - loss: 0.0224 - accuracy: 0.4823 - val_loss: 0.0988 - val_accuracy: 0.2695\n",
      "\n",
      "Epoch 00027: val_loss did not improve from 0.08110\n",
      "Epoch 28/50\n",
      "1002/1002 [==============================] - 380s 379ms/step - loss: 0.0220 - accuracy: 0.4893 - val_loss: 0.1055 - val_accuracy: 0.2996\n",
      "\n",
      "Epoch 00028: val_loss did not improve from 0.08110\n",
      "Epoch 29/50\n",
      "1002/1002 [==============================] - 380s 379ms/step - loss: 0.0211 - accuracy: 0.4897 - val_loss: 0.0988 - val_accuracy: 0.3004\n",
      "\n",
      "Epoch 00029: val_loss did not improve from 0.08110\n",
      "Epoch 30/50\n",
      "1002/1002 [==============================] - 379s 379ms/step - loss: 0.0207 - accuracy: 0.4883 - val_loss: 0.0995 - val_accuracy: 0.3010\n",
      "\n",
      "Epoch 00030: val_loss did not improve from 0.08110\n",
      "Epoch 31/50\n",
      "1002/1002 [==============================] - 379s 379ms/step - loss: 0.0201 - accuracy: 0.4908 - val_loss: 0.1042 - val_accuracy: 0.2948\n",
      "\n",
      "Epoch 00031: val_loss did not improve from 0.08110\n",
      "Epoch 32/50\n",
      "1002/1002 [==============================] - 379s 378ms/step - loss: 0.0198 - accuracy: 0.4799 - val_loss: 0.1133 - val_accuracy: 0.3052\n",
      "\n",
      "Epoch 00032: val_loss did not improve from 0.08110\n",
      "Epoch 33/50\n",
      "1002/1002 [==============================] - 380s 379ms/step - loss: 0.0189 - accuracy: 0.4848 - val_loss: 0.1038 - val_accuracy: 0.2981\n",
      "\n",
      "Epoch 00033: val_loss did not improve from 0.08110\n",
      "Epoch 34/50\n",
      "1002/1002 [==============================] - 380s 379ms/step - loss: 0.0186 - accuracy: 0.4863 - val_loss: 0.1051 - val_accuracy: 0.3077\n",
      "\n",
      "Epoch 00034: val_loss did not improve from 0.08110\n"
     ]
    }
   ],
   "source": [
    "es = EarlyStopping(monitor='val_loss', patience=20)\n",
    "mc = ModelCheckpoint(filepath='./lstm_2nd_try_50_s.h5',\n",
    "                     monitor='val_loss', verbose=1, save_best_only=True)\n",
    "callbacks = [es, mc]\n",
    "\n",
    "history = model.fit(X_train, y_train, epochs=50, callbacks=callbacks,\n",
    "                    validation_split=0.1, verbose=1, shuffle=False)"
   ]
  },
  {
   "cell_type": "code",
   "execution_count": 8,
   "id": "7b8768d9-0339-4c9b-9aee-06bcb0dbbe6f",
   "metadata": {},
   "outputs": [],
   "source": [
    "model = load_model('./best_models/lstm_1nd_try_50_t.h5')"
   ]
  },
  {
   "cell_type": "code",
   "execution_count": 9,
   "id": "8bda1a7a-b7c4-4ff1-afc0-cc746da2964a",
   "metadata": {},
   "outputs": [
    {
     "ename": "NameError",
     "evalue": "name 'X_test' is not defined",
     "output_type": "error",
     "traceback": [
      "\u001b[0;31m---------------------------------------------------------------------------\u001b[0m",
      "\u001b[0;31mNameError\u001b[0m                                 Traceback (most recent call last)",
      "\u001b[0;32m<ipython-input-9-9bfa409b2337>\u001b[0m in \u001b[0;36m<module>\u001b[0;34m\u001b[0m\n\u001b[0;32m----> 1\u001b[0;31m \u001b[0my_pred\u001b[0m \u001b[0;34m=\u001b[0m \u001b[0;34m(\u001b[0m\u001b[0mmodel\u001b[0m\u001b[0;34m.\u001b[0m\u001b[0mpredict\u001b[0m\u001b[0;34m(\u001b[0m\u001b[0mX_test\u001b[0m\u001b[0;34m)\u001b[0m \u001b[0;34m>\u001b[0m \u001b[0;36m0.2\u001b[0m\u001b[0;34m)\u001b[0m\u001b[0;34m.\u001b[0m\u001b[0mastype\u001b[0m\u001b[0;34m(\u001b[0m\u001b[0;34m\"int32\"\u001b[0m\u001b[0;34m)\u001b[0m\u001b[0;34m\u001b[0m\u001b[0;34m\u001b[0m\u001b[0m\n\u001b[0m",
      "\u001b[0;31mNameError\u001b[0m: name 'X_test' is not defined"
     ]
    }
   ],
   "source": [
    "y_pred = (model.predict(X_test) > 0.2).astype(\"int32\")"
   ]
  },
  {
   "cell_type": "code",
   "execution_count": 20,
   "id": "2de83751-8bc4-4b3d-9390-1907f11bddb7",
   "metadata": {},
   "outputs": [],
   "source": [
    "song1_lstm = array_to_midi(y_pred, instruments_list, 140)"
   ]
  },
  {
   "cell_type": "code",
   "execution_count": 21,
   "id": "04688f10-c60e-4d46-aafb-698bc6d08ea9",
   "metadata": {},
   "outputs": [],
   "source": [
    "song1_lstm.save('lstm_2nd_try_50_sev_02.mid')"
   ]
  },
  {
   "cell_type": "code",
   "execution_count": null,
   "id": "f916898e-c5d8-45fa-b586-5c8ea1fa5ca6",
   "metadata": {},
   "outputs": [],
   "source": []
  }
 ],
 "metadata": {
  "kernelspec": {
   "display_name": "Python 3",
   "language": "python",
   "name": "python3"
  },
  "language_info": {
   "codemirror_mode": {
    "name": "ipython",
    "version": 3
   },
   "file_extension": ".py",
   "mimetype": "text/x-python",
   "name": "python",
   "nbconvert_exporter": "python",
   "pygments_lexer": "ipython3",
   "version": "3.7.11"
  }
 },
 "nbformat": 4,
 "nbformat_minor": 5
}
