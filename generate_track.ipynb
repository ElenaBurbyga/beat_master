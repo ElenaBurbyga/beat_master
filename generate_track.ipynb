{
 "cells": [
  {
   "cell_type": "code",
   "execution_count": 6,
   "id": "1a9a3101-509a-48ad-a006-a25fae86d28a",
   "metadata": {},
   "outputs": [],
   "source": [
    "from utils import MidiProcessor, prepare_data, array_to_midi, concat_all_midi_to_df, get_good_files\n",
    "from model import build_lstm\n",
    "import numpy as np\n",
    "from keras.callbacks import EarlyStopping, ModelCheckpoint, TensorBoard\n",
    "from keras.utils import np_utils\n",
    "from keras.models import load_model\n",
    "import matplotlib.pyplot as plt"
   ]
  },
  {
   "cell_type": "code",
   "execution_count": 7,
   "id": "96b696cb-9117-40cd-9084-481422d33022",
   "metadata": {},
   "outputs": [],
   "source": [
    "input_window_len = 32\n",
    "pred_steps = 1"
   ]
  },
  {
   "cell_type": "code",
   "execution_count": 21,
   "id": "fe84bce8-2706-4931-96cb-c5564e2ebeab",
   "metadata": {},
   "outputs": [],
   "source": [
    "artists = {\n",
    "    'slipknot':{\n",
    "        'models':{\n",
    "            'bi_e50':'./best_models/bidirectional_1st_try.h5',\n",
    "            'lstm_e50': './best_models/lstm_1st_try_50.h5',\n",
    "            'lstm_e100': './best_models/lstm_2nd_try_100.h5'\n",
    "        },\n",
    "        'folder': '../Music'\n",
    "    },\n",
    "    'tool':{\n",
    "        'models':{\n",
    "            'lstm_e50': './best_models/lstm_1nd_try_50_t.h5'\n",
    "        },\n",
    "        'folder': '../Music2'\n",
    "    },\n",
    "    'sevendust':{\n",
    "        'models':{\n",
    "            'lstm_e50': './best_models/lstm_2nd_try_50_s.h5'\n",
    "        },\n",
    "        'folder': '../Music3'\n",
    "    }\n",
    "}"
   ]
  },
  {
   "cell_type": "code",
   "execution_count": 19,
   "id": "0591ad3f-038d-43dd-8890-8470eb04b06c",
   "metadata": {},
   "outputs": [
    {
     "name": "stdout",
     "output_type": "stream",
     "text": [
      "../Music2\n",
      "['Tool_-_The_Grudge_(2).mid', 'Tool_-_The_grudge.mid', 'Tool_-_Schism_(4).mid', 'Tool_-_Sober.mid', 'Tool_-_Forty_Six_&_2.mid', 'Tool_-_The_Patient_(3).mid', 'Tool_-_jimmy_(2).mid', 'Tool_-_Tool_-_Undertow.mid', 'Tool_-_You_Lied.mid', 'Tool_-_46_&_2_(2).mid', 'Tool_-_Reflection.mid', 'Tool_-_Eon_Blue_Apocalypse,_The_Patient.mid', 'Tool_-_Intermission_-_Jimmy.mid', 'Tool_-_Tool_-_Lateralis.mid', 'Tool_-_Part_Of_Me(1).mid', 'Tool_-_Aenima_(2).mid', 'Tool_-_H..mid', 'Tool_-_Ticks_And_Leeches_(2).mid', 'Tool_-_Eulogy_(2)(1).mid', 'Tool_-_Parabol__Parabola.mid', 'Tool_-_Hush.mid', 'Tool_-_Hooker_With_A_Penis.mid', 'Tool_-_Undertow.mid', 'Tool_-_Sweat.mid', 'Tool_-_Prison_Sex.mid', 'Tool_-_Stinkfist.mid', 'Tool_-_Eulogy.mid', 'Tool_-_Intolerance.mid', 'Tool_-_Tool_-_Sober.mid', 'Tool_-_Parabola.mid', 'Tool_-_Lateralus.mid', 'Tool_-_Third_Eye.mid', 'Tool_-_Pushit.mid', 'Tool_-_Flood.mid']\n",
      "42 drum loops\n",
      "31 percussion instruments\n",
      "172314 32-notes\n"
     ]
    }
   ],
   "source": [
    "files = get_good_files(artists['tool']['folder'])\n",
    "df, tracks_len_list = concat_all_midi_to_df(files, return_tracks_len_list=True)"
   ]
  },
  {
   "cell_type": "code",
   "execution_count": 31,
   "id": "ff1b0121-d476-4639-b76f-dea39a746ce9",
   "metadata": {},
   "outputs": [],
   "source": [
    "X_train, y_train, X_test, y_test, instruments_list = prepare_data(df, input_window_len=input_window_len, pred_steps=1, overlaps=0, train_test_split=0.1,\n",
    "                                                                  tracks_len_list=tracks_len_list, max_instruments=10)"
   ]
  },
  {
   "cell_type": "code",
   "execution_count": 32,
   "id": "36a1ae84-a922-400b-af3d-b732b16ac43d",
   "metadata": {},
   "outputs": [],
   "source": [
    "model = load_model(artists['tool']['models']['lstm_e50'])"
   ]
  },
  {
   "cell_type": "code",
   "execution_count": 33,
   "id": "eb995c48-26cd-4776-83de-1530dbe729c3",
   "metadata": {},
   "outputs": [],
   "source": [
    "y_pred = (model.predict(X_test) > 0.2).astype(\"int32\")"
   ]
  },
  {
   "cell_type": "code",
   "execution_count": 34,
   "id": "66d79b97-e8e1-4b5e-a75a-31e2d5c174ce",
   "metadata": {},
   "outputs": [],
   "source": [
    "midiData = array_to_midi(y_pred, instruments_list, 140)"
   ]
  },
  {
   "cell_type": "code",
   "execution_count": 35,
   "id": "dbc4c8ac-8e09-418f-8a4d-aaeab28feeeb",
   "metadata": {},
   "outputs": [],
   "source": [
    "midiData.save('./midi_files/gen_tool_140bpm_e50.mid')"
   ]
  },
  {
   "cell_type": "code",
   "execution_count": null,
   "id": "1e755b81-9a74-4958-a9ad-7df7f006fddb",
   "metadata": {},
   "outputs": [],
   "source": []
  }
 ],
 "metadata": {
  "kernelspec": {
   "display_name": "Python 3",
   "language": "python",
   "name": "python3"
  },
  "language_info": {
   "codemirror_mode": {
    "name": "ipython",
    "version": 3
   },
   "file_extension": ".py",
   "mimetype": "text/x-python",
   "name": "python",
   "nbconvert_exporter": "python",
   "pygments_lexer": "ipython3",
   "version": "3.7.11"
  }
 },
 "nbformat": 4,
 "nbformat_minor": 5
}
