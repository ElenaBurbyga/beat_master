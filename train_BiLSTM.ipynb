{
 "cells": [
  {
   "cell_type": "code",
   "execution_count": 2,
   "id": "51976c4c-8db2-421f-9609-e86eee2f5e40",
   "metadata": {},
   "outputs": [],
   "source": [
    "from utils import MidiProcessor, prepare_data, array_to_midi, concat_all_midi_to_df, get_good_files\n",
    "from model import build_bidirectional_lstm\n",
    "import numpy as np\n",
    "from keras.callbacks import EarlyStopping, ModelCheckpoint, TensorBoard\n",
    "from keras.utils import np_utils\n",
    "from keras.models import load_model"
   ]
  },
  {
   "cell_type": "code",
   "execution_count": 5,
   "id": "133390dd-6ec5-4688-b3c9-e74bb96c80df",
   "metadata": {},
   "outputs": [],
   "source": [
    "input_window_len = 32\n",
    "pred_steps = 1"
   ]
  },
  {
   "cell_type": "code",
   "execution_count": 6,
   "id": "c03b3c2f-9cd4-473e-8b48-c374fcc5d000",
   "metadata": {},
   "outputs": [
    {
     "name": "stdout",
     "output_type": "stream",
     "text": [
      "42 drum loops\n",
      "31 percussion instruments\n",
      "172314 32-notes\n"
     ]
    }
   ],
   "source": [
    "files = get_good_files()\n",
    "\n",
    "df, tracks_len_list = concat_all_midi_to_df(files, return_tracks_len_list=True)"
   ]
  },
  {
   "cell_type": "code",
   "execution_count": 7,
   "id": "10e9f161-edb0-4406-adaa-32bbd99e1e80",
   "metadata": {},
   "outputs": [],
   "source": [
    "X_train, y_train, X_test, y_test, instruments_list = prepare_data(df, input_window_len=input_window_len, pred_steps=1, overlaps=0, train_test_split=0.1,\n",
    "                                                                  tracks_len_list=tracks_len_list, max_instruments=6)"
   ]
  },
  {
   "cell_type": "code",
   "execution_count": 6,
   "id": "c8c2b465-272f-4a4c-afde-834ccce94707",
   "metadata": {},
   "outputs": [
    {
     "data": {
      "text/plain": [
       "array([[0, 0, 0, 0, 0, 0],\n",
       "       [0, 0, 0, 0, 0, 0],\n",
       "       [0, 0, 0, 0, 0, 0],\n",
       "       ...,\n",
       "       [0, 0, 0, 0, 0, 0],\n",
       "       [0, 0, 0, 0, 0, 0],\n",
       "       [1, 1, 0, 1, 0, 0]])"
      ]
     },
     "execution_count": 6,
     "metadata": {},
     "output_type": "execute_result"
    }
   ],
   "source": [
    "y_test"
   ]
  },
  {
   "cell_type": "code",
   "execution_count": 8,
   "id": "2dd1449b-1001-4f36-9e6b-69ef90a0781a",
   "metadata": {
    "tags": []
   },
   "outputs": [],
   "source": [
    "n_feature = X_train.shape[2]\n",
    "output_shape = y_train.shape[1]\n",
    "model = build_bidirectional_lstm(input_window_len=input_window_len, n_feature=n_feature, output_shape=output_shape, dropout=0.5, neurons_per_layer=[32, 32, 32])"
   ]
  },
  {
   "cell_type": "code",
   "execution_count": 9,
   "id": "81c741e8-c3cb-4bd1-a13d-7b76f03633fe",
   "metadata": {},
   "outputs": [
    {
     "name": "stdout",
     "output_type": "stream",
     "text": [
      "Model: \"sequential\"\n",
      "_________________________________________________________________\n",
      "Layer (type)                 Output Shape              Param #   \n",
      "=================================================================\n",
      "lstm (LSTM)                  (None, 32, 32)            4992      \n",
      "_________________________________________________________________\n",
      "dropout (Dropout)            (None, 32, 32)            0         \n",
      "_________________________________________________________________\n",
      "bidirectional (Bidirectional (None, 200)               106400    \n",
      "_________________________________________________________________\n",
      "batch_normalization (BatchNo (None, 200)               800       \n",
      "_________________________________________________________________\n",
      "dropout_1 (Dropout)          (None, 200)               0         \n",
      "_________________________________________________________________\n",
      "dense (Dense)                (None, 6)                 1206      \n",
      "_________________________________________________________________\n",
      "activation (Activation)      (None, 6)                 0         \n",
      "_________________________________________________________________\n",
      "batch_normalization_1 (Batch (None, 6)                 24        \n",
      "_________________________________________________________________\n",
      "dropout_2 (Dropout)          (None, 6)                 0         \n",
      "_________________________________________________________________\n",
      "dense_1 (Dense)              (None, 6)                 42        \n",
      "=================================================================\n",
      "Total params: 113,464\n",
      "Trainable params: 113,052\n",
      "Non-trainable params: 412\n",
      "_________________________________________________________________\n"
     ]
    }
   ],
   "source": [
    "model.summary()"
   ]
  },
  {
   "cell_type": "code",
   "execution_count": 24,
   "id": "a640bdec-86a9-4db1-81f9-931b605ad58b",
   "metadata": {},
   "outputs": [],
   "source": [
    "es = EarlyStopping(monitor='val_loss', patience=50)\n",
    "mc = ModelCheckpoint(filepath='./bidirectional_1st_try.h5',\n",
    "                     monitor='val_loss', verbose=1, save_best_only=True)\n",
    "callbacks = [es, mc]\n",
    "\n",
    "history = model.fit(X_train, y_train, epochs=50, callbacks=callbacks,\n",
    "                    validation_split=0.1, verbose=1, shuffle=False)"
   ]
  },
  {
   "cell_type": "code",
   "execution_count": 3,
   "id": "7b8768d9-0339-4c9b-9aee-06bcb0dbbe6f",
   "metadata": {},
   "outputs": [],
   "source": [
    "model = load_model('bidirectional_1st_try.h5')"
   ]
  },
  {
   "cell_type": "code",
   "execution_count": 11,
   "id": "8bda1a7a-b7c4-4ff1-afc0-cc746da2964a",
   "metadata": {},
   "outputs": [],
   "source": [
    "y_pred = (model.predict(X_test) > 0.2).astype(\"int32\")"
   ]
  },
  {
   "cell_type": "code",
   "execution_count": 12,
   "id": "2de83751-8bc4-4b3d-9390-1907f11bddb7",
   "metadata": {},
   "outputs": [],
   "source": [
    "song1_bilstm = array_to_midi(y_pred, instruments_list)"
   ]
  },
  {
   "cell_type": "code",
   "execution_count": 13,
   "id": "f916898e-c5d8-45fa-b586-5c8ea1fa5ca6",
   "metadata": {},
   "outputs": [],
   "source": [
    "song1_bilstm.save('biderectional_02_50.mid')"
   ]
  },
  {
   "cell_type": "code",
   "execution_count": null,
   "id": "144d2073-b7ad-4186-9136-303ef1327169",
   "metadata": {},
   "outputs": [],
   "source": []
  }
 ],
 "metadata": {
  "kernelspec": {
   "display_name": "Python 3",
   "language": "python",
   "name": "python3"
  },
  "language_info": {
   "codemirror_mode": {
    "name": "ipython",
    "version": 3
   },
   "file_extension": ".py",
   "mimetype": "text/x-python",
   "name": "python",
   "nbconvert_exporter": "python",
   "pygments_lexer": "ipython3",
   "version": "3.7.11"
  }
 },
 "nbformat": 4,
 "nbformat_minor": 5
}
