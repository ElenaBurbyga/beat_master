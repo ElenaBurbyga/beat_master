{
 "cells": [
  {
   "cell_type": "code",
   "execution_count": 1,
   "id": "3603df79-a809-478d-8b46-488f63fa623f",
   "metadata": {},
   "outputs": [],
   "source": [
    "from utils import MidiProcessor, get_good_files"
   ]
  },
  {
   "cell_type": "code",
   "execution_count": 2,
   "id": "6f3d8964-dff2-4011-aa99-ce19575f6e0a",
   "metadata": {},
   "outputs": [
    {
     "name": "stdout",
     "output_type": "stream",
     "text": [
      "['Slipknot_-_I_Am_Hated_(2).mid', 'Slipknot_-_The_Pulse_Of_The_Maggots.mid', 'Slipknot_-_Skin_Ticket.mid', 'Slipknot_-_Gently.mid', 'Slipknot_-_Opium_Of_The_People.mid', 'Slipknot_-_Purity_W_Frail_Limb_Nursery.mid', 'Slipknot_-_The_Blister_Exists.mid', 'Slipknot_-_Disasterpiece_(3).mid', 'Slipknot_-_Vermilion.mid', 'Slipknot_-_(SIC).mid', 'Slipknot_-_Left_Behind__(2).mid', 'Slipknot_-_Get_This_(2)(1).mid', 'Slipknot_-_Slipknot_(Rare_Version).mid', 'Slipknot_-_Too_Extreme_For_Slipknot.mid', 'Slipknot_-_Three_Nil.mid', 'Slipknot_-_New_Abortion.mid', 'Slipknot_-_Danger_-_Keep_Away.mid', 'Slipknot_-_Everything_Ends_(2).mid', 'Slipknot_-_Enjoy_The_Silence.mid', 'Slipknot_-_The_Nameless.mid', \"Slipknot_-_Don't_Get_Close.mid\", 'Slipknot_-_Iowa.mid', 'Slipknot_-_Prelude.mid', 'Slipknot_-_The_Shape.mid', 'Slipknot_-_Wait_And_Bleed_(3).mid', 'Slipknot_-_The_Heretic_Anthem_(intro).mid', 'Slipknot_-_Joey_Jordison_Drum_Solo_(from_Surfacing).mid', 'Slipknot_-_Eyeless.mid', 'Slipknot_-_Heretic_Anthem.mid', 'Slipknot_-_Before_I_Forget.mid', 'Slipknot_-_Surfacing.mid', 'Slipknot_-_Duality.mid', 'Slipknot_-_Purity(1).mid', 'Slipknot_-_Circle.mid', 'Slipknot_-_Eeyore(1).mid', 'Slipknot_-_No_Life.mid', 'Slipknot_-_Welcome.mid', 'Slipknot_-_Slipknot.mid', 'Slipknot_-_my_plague_all_scores.mid', 'Slipknot_-_People_=_Shit.mid', 'Slipknot_-_Tattered_And_Torn.mid', 'Slipknot_-_Spit_it_out_(2).mid', 'Slipknot_-_Scream.mid']\n"
     ]
    }
   ],
   "source": [
    "midi_files = get_good_files()\n",
    "print(midi_files)"
   ]
  },
  {
   "cell_type": "code",
   "execution_count": 3,
   "id": "eb072e69-2846-4914-aac4-dcec6920d4f6",
   "metadata": {},
   "outputs": [
    {
     "name": "stdout",
     "output_type": "stream",
     "text": [
      "43\n"
     ]
    }
   ],
   "source": [
    "print(len(midi_files))"
   ]
  }
 ],
 "metadata": {
  "kernelspec": {
   "display_name": "Python 3",
   "language": "python",
   "name": "python3"
  },
  "language_info": {
   "codemirror_mode": {
    "name": "ipython",
    "version": 3
   },
   "file_extension": ".py",
   "mimetype": "text/x-python",
   "name": "python",
   "nbconvert_exporter": "python",
   "pygments_lexer": "ipython3",
   "version": "3.7.11"
  }
 },
 "nbformat": 4,
 "nbformat_minor": 5
}
